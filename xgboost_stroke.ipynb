{
 "cells": [
  {
   "cell_type": "code",
   "execution_count": 5,
   "metadata": {
    "collapsed": true
   },
   "outputs": [
    {
     "name": "stdout",
     "output_type": "stream",
     "text": [
      "mean(y) = 0.0487279843444227\n",
      "[0]\tvalidation_0-aucpr:0.18676\n",
      "[1]\tvalidation_0-aucpr:0.19590\n",
      "[2]\tvalidation_0-aucpr:0.20145\n",
      "[3]\tvalidation_0-aucpr:0.19364\n",
      "[4]\tvalidation_0-aucpr:0.19264\n",
      "[5]\tvalidation_0-aucpr:0.18373\n",
      "[6]\tvalidation_0-aucpr:0.20162\n",
      "[7]\tvalidation_0-aucpr:0.19495\n",
      "[8]\tvalidation_0-aucpr:0.20207\n",
      "[9]\tvalidation_0-aucpr:0.19668\n",
      "[10]\tvalidation_0-aucpr:0.19557\n",
      "[11]\tvalidation_0-aucpr:0.20134\n",
      "[12]\tvalidation_0-aucpr:0.20126\n",
      "[13]\tvalidation_0-aucpr:0.20082\n",
      "[14]\tvalidation_0-aucpr:0.19495\n",
      "[15]\tvalidation_0-aucpr:0.19679\n",
      "[16]\tvalidation_0-aucpr:0.19599\n",
      "[17]\tvalidation_0-aucpr:0.19413\n",
      "[18]\tvalidation_0-aucpr:0.19540\n",
      "Fitting 3 folds for each of 243 candidates, totalling 729 fits\n",
      "[22:41:56] WARNING: ../src/learner.cc:576: \n",
      "Parameters: { \"learn_rate\" } might not be used.\n",
      "\n",
      "  This could be a false alarm, with some parameters getting used by language bindings but\n",
      "  then being mistakenly passed down to XGBoost core, or some parameter actually being used\n",
      "  but getting flagged wrongly here. Please open an issue if you find any such cases.\n",
      "\n",
      "\n",
      "best params: {'gamma': 1.0, 'learn_rate': 0.1, 'max_depth': 3, 'reg_lambda': 10.0, 'scale_pos_weight': 4}\n",
      "[22:41:56] WARNING: ../src/learner.cc:576: \n",
      "Parameters: { \"learn_rate\" } might not be used.\n",
      "\n",
      "  This could be a false alarm, with some parameters getting used by language bindings but\n",
      "  then being mistakenly passed down to XGBoost core, or some parameter actually being used\n",
      "  but getting flagged wrongly here. Please open an issue if you find any such cases.\n",
      "\n",
      "\n"
     ]
    },
    {
     "data": {
      "text/plain": "<Figure size 432x288 with 2 Axes>",
      "image/png": "[encoded data removed]"
     },
     "metadata": {
      "needs_background": "light"
     },
     "output_type": "display_data"
    },
    {
     "name": "stderr",
     "output_type": "stream",
     "text": [
      "/home/sina/anaconda2/envs/trading/lib/python3.8/site-packages/xgboost/sklearn.py:1224: UserWarning: The use of label encoder in XGBClassifier is deprecated and will be removed in a future release. To remove this warning, do the following: 1) Pass option use_label_encoder=False when constructing XGBClassifier object; and 2) Encode your labels (y) as integers starting with 0, i.e. 0, 1, 2, ..., [num_class - 1].\n",
      "  warnings.warn(label_encoder_deprecation_msg, UserWarning)\n"
     ]
    },
    {
     "data": {
      "text/plain": "<Figure size 432x288 with 2 Axes>",
      "image/png": "[encoded data removed]"
     },
     "metadata": {
      "needs_background": "light"
     },
     "output_type": "display_data"
    }
   ],
   "source": [
    "import pandas as pd\n",
    "import numpy as np\n",
    "import pprint\n",
    "import matplotlib.pyplot as plt\n",
    "from sklearn.model_selection import train_test_split, GridSearchCV\n",
    "from sklearn.metrics import plot_confusion_matrix, confusion_matrix, ConfusionMatrixDisplay\n",
    "import xgboost as xgb\n",
    "\n",
    "\n",
    "\"\"\"\n",
    "Predicting a future stroke\n",
    "\"\"\"\n",
    "\n",
    "# load data\n",
    "df = pd.read_csv('healthcare-dataset-stroke-data.csv')\n",
    "\n",
    "# prepare data\n",
    "\n",
    "#work type, gender\n",
    "#different categories, nominal scale\n",
    "df_1hots = pd.get_dummies(df, columns=['work_type', 'gender'])\n",
    "\n",
    "#ever married\n",
    "df_1hots.replace('Yes', True, inplace=True)\n",
    "df_1hots.replace('No', False, inplace=True)\n",
    "df_1hots['ever_married'] = df_1hots['ever_married'].astype('bool')\n",
    "#Residence type\n",
    "df_1hots['Residence_type'].replace('Urban', True, inplace=True)\n",
    "df_1hots['Residence_type'].replace('Rural', False, inplace=True)\n",
    "df_1hots.rename(columns = {'Residence_type':'Urban_residence'}, inplace=True)\n",
    "#df_1hots.loc[(df_1hots['Residence_type']=='Urban'), 'Residence_type'] = 0\n",
    "#df_1hots.loc[(df_1hots['Residence_type']=='Rural'), 'Residence_type'] = 1\n",
    "#bmi, remove nans\n",
    "df_1hots.loc[(np.isnan(df_1hots['bmi'])), 'bmi'] = 0\n",
    "# smoking_status: ints instead of strings. I think introducing a hierarchy makes sense here\n",
    "df_1hots.loc[(df_1hots['smoking_status']=='Unknown'), 'smoking_status'] = 0\n",
    "df_1hots.loc[(df_1hots['smoking_status']=='never smoked'), 'smoking_status'] = 0\n",
    "df_1hots.loc[(df_1hots['smoking_status']=='formerly smoked'), 'smoking_status'] = 1\n",
    "df_1hots.loc[(df_1hots['smoking_status']=='smokes'), 'smoking_status'] = 2\n",
    "df_1hots['smoking_status'] = df_1hots['smoking_status'].astype('int64')\n",
    "#don't use .convert_dtypes! It converts into booeanDtype instead of bool, which is not usa\n",
    "#df_1hots = df_1hots.convert_dtypes()\n",
    "\n",
    "#test and training data\n",
    "y = df_1hots['stroke'].copy()\n",
    "X = df_1hots.drop(['id', 'stroke'], axis=1)\n",
    "print('mean(y) = '+str(np.mean(y)))\n",
    "# mean(y) = 0.04, extremely uneven\n",
    "X_train, X_test, y_train, y_test = train_test_split(X, y,\n",
    "    test_size=.3, random_state=42, stratify=y)\n",
    "\n",
    "# before optimization\n",
    "cl_xgb = xgb.XGBClassifier(objective='binary:logistic', seed=42, use_label_encoder=False)\n",
    "cl_xgb.fit(X_train,\n",
    "            y_train,\n",
    "            verbose=True,\n",
    "            early_stopping_rounds=10,\n",
    "            eval_metric='aucpr',\n",
    "            eval_set=[(X_test, y_test)])\n",
    "ConfusionMatrixDisplay.from_estimator(cl_xgb, X_test, y_test)\n",
    "plt.title('Before optimization - focus lies mainly on larger group')\n",
    "plt.show()\n",
    "\n",
    "#optimize parameters using grid search cross validation\n",
    "param_grid = {\n",
    "    'max_depth': [3,4,5],\n",
    "    'learn_rate': [.1, .05, .01],\n",
    "    'gamma': [0, .25, 1.0],\n",
    "    'reg_lambda': [0,1.0,10.0],\n",
    "    'scale_pos_weight': [4,5,6]\n",
    "}\n",
    "\n",
    "optimal_params = GridSearchCV(\n",
    "    estimator=xgb.XGBClassifier(objective='binary:logistic',\n",
    "                                seed=42,\n",
    "                                subsample=.9,\n",
    "                                colsample_bytree=.5),\n",
    "    param_grid=param_grid,\n",
    "    scoring='roc_auc',\n",
    "    verbose=2,\n",
    "    n_jobs=10,\n",
    "    cv=3\n",
    ")\n",
    "\n",
    "optimal_params.fit(X_train,\n",
    "           y_train,\n",
    "           verbose=False,\n",
    "           early_stopping_rounds=10,\n",
    "           eval_metric='aucpr',\n",
    "           eval_set=[(X_test, y_test)])\n",
    "\n",
    "print(\"best params: {'gamma': 1.0, 'learn_rate': 0.1, 'max_depth': 3, 'reg_lambda': 10.0, 'scale_pos_weight': 4}\")\n",
    "cl_xgb2 = xgb.XGBClassifier(seed=42,\n",
    "                           objective='binary:logistic',\n",
    "                           gamma=1.0,\n",
    "                           learn_rate=.1,\n",
    "                           max_depth=3,\n",
    "                           reg_lambda=10.0,\n",
    "                           scale_pos_weight=4,\n",
    "                           subsample=.9,\n",
    "                           colsample_bytree=.5)\n",
    "cl_xgb2.fit(X_train,\n",
    "           y_train,\n",
    "           verbose=False,\n",
    "           early_stopping_rounds=10,\n",
    "           eval_metric='aucpr',\n",
    "           eval_set=[(X_test, y_test)])\n",
    "\n",
    "\n",
    "#plot_confusion_matrix # old command\n",
    "ConfusionMatrixDisplay.from_estimator(cl_xgb2, X_test, y_test)\n",
    "plt.title('improved parameters')\n",
    "plt.show()"
   ]
  },
  {
   "cell_type": "markdown",
   "source": [
    "Initially the very imbalanced group sizes cause the model to prioritize the detection of correct rejections over hits.\n",
    "Only 5% of subjects are stroke patients. Given this circumstance, a classifier like this one is not practically useful.\n",
    "I tried adjusting the parameter scale_pos_weight, which can help prioritize accurate classification of the smaller group,\n",
    "but wasn't sufficient in this case. Even with other parameters optimized further within a small range, the number hits\n",
    "remained lower than the number of mistakes (false positives and false negatives), so that other strategies must be explored.\n",
    "\n"
   ],
   "metadata": {
    "collapsed": false
   }
  },
  {
   "cell_type": "code",
   "execution_count": 2,
   "outputs": [],
   "source": [
    "\n",
    "\n",
    "\n"
   ],
   "metadata": {
    "collapsed": false,
    "pycharm": {
     "name": "#%%\n"
    }
   }
  }
 ],
 "metadata": {
  "kernelspec": {
   "name": "pycharm-f8e1f889",
   "language": "python",
   "display_name": "PyCharm (Moonlanding)"
  },
  "language_info": {
   "codemirror_mode": {
    "name": "ipython",
    "version": 2
   },
   "file_extension": ".py",
   "mimetype": "text/x-python",
   "name": "python",
   "nbconvert_exporter": "python",
   "pygments_lexer": "ipython2",
   "version": "2.7.6"
  }
 },
 "nbformat": 4,
 "nbformat_minor": 0
}